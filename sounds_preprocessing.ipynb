{
 "cells": [
  {
   "cell_type": "markdown",
   "metadata": {
    "collapsed": true
   },
   "source": [
    "#Audio files preprocessing"
   ]
  },
  {
   "cell_type": "markdown",
   "metadata": {},
   "source": [
    "Some of the audio files has 2 channels and anothers 1 in order to use all of them for modelling we have to replace audio files from 2 channels to 1."
   ]
  },
  {
   "cell_type": "code",
   "execution_count": 1,
   "metadata": {
    "collapsed": false
   },
   "outputs": [],
   "source": [
    "import os \n",
    "import glob\n",
    "import scipy.io.wavfile\n",
    "from shutil import copyfile\n",
    "import subprocess\n",
    "from shutil import copyfile\n",
    "os.chdir('/Users/vidmantasbendikas/Documents/github/soundrecognition')\n",
    "Audio_dir = 'audio_preparation/Audio'\n",
    "Audio_mono_dir = 'audio_preparation/Audio_mono'\n",
    "\n",
    "if not os.path.exists(Audio_mono_dir):\n",
    "    os.makedirs(Audio_mono_dir)\n",
    "\n",
    "list_subdirs = os.listdir(Audio_dir)\n"
   ]
  },
  {
   "cell_type": "markdown",
   "metadata": {},
   "source": [
    "Replace channel for audio recorded by studio microphone"
   ]
  },
  {
   "cell_type": "code",
   "execution_count": 2,
   "metadata": {
    "collapsed": false
   },
   "outputs": [
    {
     "name": "stdout",
     "output_type": "stream",
     "text": [
      "Preprocessed 100 audio files\n"
     ]
    },
    {
     "name": "stdout",
     "output_type": "stream",
     "text": [
      "Preprocessed 200 audio files\n"
     ]
    },
    {
     "name": "stderr",
     "output_type": "stream",
     "text": [
      "/Users/vidmantasbendikas/tensorflow/lib/python2.7/site-packages/scipy/io/wavfile.py:273: WavFileWarning: Chunk (non-data) not understood, skipping it.\n  WavFileWarning)\n"
     ]
    },
    {
     "name": "stdout",
     "output_type": "stream",
     "text": [
      "Preprocessed 300 audio files\n"
     ]
    },
    {
     "name": "stdout",
     "output_type": "stream",
     "text": [
      "Preprocessed 400 audio files\n"
     ]
    },
    {
     "name": "stdout",
     "output_type": "stream",
     "text": [
      "Preprocessed 500 audio files\n"
     ]
    },
    {
     "name": "stdout",
     "output_type": "stream",
     "text": [
      "Preprocessed 600 audio files\n"
     ]
    },
    {
     "name": "stdout",
     "output_type": "stream",
     "text": [
      "Preprocessed 700 audio files\n"
     ]
    },
    {
     "name": "stdout",
     "output_type": "stream",
     "text": [
      "Preprocessed 800 audio files\n"
     ]
    },
    {
     "name": "stdout",
     "output_type": "stream",
     "text": [
      "Preprocessed 900 audio files\n"
     ]
    },
    {
     "name": "stdout",
     "output_type": "stream",
     "text": [
      "Preprocessed 1000 audio files\n"
     ]
    },
    {
     "name": "stdout",
     "output_type": "stream",
     "text": [
      "Preprocessed 1100 audio files\n"
     ]
    },
    {
     "name": "stdout",
     "output_type": "stream",
     "text": [
      "Preprocessed 1200 audio files\n"
     ]
    },
    {
     "name": "stdout",
     "output_type": "stream",
     "text": [
      "Preprocessed 1300 audio files\n"
     ]
    },
    {
     "name": "stdout",
     "output_type": "stream",
     "text": [
      "Preprocessed 1400 audio files\n"
     ]
    }
   ],
   "source": [
    "error_count=0\n",
    "s=0\n",
    "LOG_EVERY_N = 100\n",
    "for i in list_subdirs:\n",
    "    s += 1\n",
    "    if (s % LOG_EVERY_N) == 0:\n",
    "        print \"Preprocessed \"+str(s)+\" audio files\"  \n",
    "    directory = Audio_dir+'/'+i+'/'\n",
    "    new_directory = Audio_mono_dir+'/A'+i.split('A')[-1]+'/'\n",
    "        \n",
    "    if not os.path.exists(new_directory):\n",
    "        os.makedirs(new_directory)\n",
    "    \n",
    "    list_wav = glob.glob(directory+\"*.wav\")\n",
    "    for k in range(len(list_wav)):\n",
    "        check_a = list_wav[k].split(\".\")[0].split(' ')[-1].split('-')[-1].split('_')[-1]\n",
    "        if check_a!='':\n",
    "            if check_a[0]=='a':\n",
    "                try:\n",
    "                    save_file_dir = new_directory + list_wav[k].split('/')[-1]\n",
    "                    rate, data = scipy.io.wavfile.read(list_wav[k])\n",
    "                    dim = len(data.shape)\n",
    "                    if dim==2:\n",
    "                        subprocess.call(['sox', list_wav[k], save_file_dir, 'remix', '1,2'])\n",
    "                    elif dim==1:\n",
    "                        copyfile(list_wav[k], save_file_dir)\n",
    "                except Exception:\n",
    "                    error_count+=1\n"
   ]
  },
  {
   "cell_type": "markdown",
   "metadata": {},
   "source": [
    "Replace channel for audio recorded by samsung phone"
   ]
  },
  {
   "cell_type": "code",
   "execution_count": 3,
   "metadata": {},
   "outputs": [
    {
     "name": "stdout",
     "output_type": "stream",
     "text": [
      "Preprocessed 100 audio files\nPreprocessed 200 audio files\n"
     ]
    },
    {
     "name": "stdout",
     "output_type": "stream",
     "text": [
      "Preprocessed 300 audio files\n"
     ]
    },
    {
     "name": "stdout",
     "output_type": "stream",
     "text": [
      "Preprocessed 400 audio files\n"
     ]
    },
    {
     "name": "stdout",
     "output_type": "stream",
     "text": [
      "Preprocessed 500 audio files\n"
     ]
    },
    {
     "name": "stdout",
     "output_type": "stream",
     "text": [
      "Preprocessed 600 audio files\nPreprocessed 700 audio files\n"
     ]
    },
    {
     "name": "stdout",
     "output_type": "stream",
     "text": [
      "Preprocessed 800 audio files\nPreprocessed 900 audio files\n"
     ]
    },
    {
     "name": "stdout",
     "output_type": "stream",
     "text": [
      "Preprocessed 1000 audio files\n"
     ]
    },
    {
     "name": "stdout",
     "output_type": "stream",
     "text": [
      "Preprocessed 1100 audio files\n"
     ]
    },
    {
     "name": "stdout",
     "output_type": "stream",
     "text": [
      "Preprocessed 1200 audio files\n"
     ]
    },
    {
     "name": "stdout",
     "output_type": "stream",
     "text": [
      "Preprocessed 1300 audio files\nPreprocessed 1400 audio files\n"
     ]
    }
   ],
   "source": [
    "#Samsung folder\n",
    "error_count=0\n",
    "s=0\n",
    "for i in list_subdirs:\n",
    "    s += 1\n",
    "    if (s % LOG_EVERY_N) == 0:\n",
    "        print \"Preprocessed \"+str(s)+\" audio files\"   \n",
    "    directory = Audio_dir+'/'+i+'/'\n",
    "    new_directory = Audio_mono_dir+'/A'+i.split('A')[-1]+'/'\n",
    "    if not os.path.exists(new_directory):\n",
    "        os.makedirs(new_directory)\n",
    "    #\n",
    "    if os.path.isdir(directory+'Samsung/'):\n",
    "        exist_samsung = True\n",
    "        directory = directory+'Samsung/'\n",
    "    elif os.path.isdir(directory+'samsung/'):\n",
    "        exist_samsung = True\n",
    "        directory = directory+'samsung/'\n",
    "    else:\n",
    "        exist_samsung = False\n",
    "    #\n",
    "    if exist_samsung:\n",
    "        list_wav = glob.glob(directory+\"*.wav\")\n",
    "        for k in range(len(list_wav)):\n",
    "            check_a = list_wav[k].split(\".\")[0].split(' ')[-1].split('-')[-1].split('_')[-1]\n",
    "            if check_a!='':\n",
    "                if (check_a[0]=='a')|(check_a=='samsung'):\n",
    "                    try:\n",
    "                        new_directory = Audio_mono_dir+'/A'+i.split('A')[-1]+'/samsung/'\n",
    "                        if not os.path.exists(new_directory):\n",
    "                                os.makedirs(new_directory)\n",
    "                        #\n",
    "                        save_file_dir = new_directory + list_wav[k].split('/')[-1]\n",
    "                        rate, data = scipy.io.wavfile.read(list_wav[k])\n",
    "                        dim = len(data.shape)\n",
    "                        if dim==2:\n",
    "                            subprocess.call(['sox', list_wav[k], save_file_dir, 'remix', '1,2'])\n",
    "                        elif dim==1:\n",
    "                            copyfile(list_wav[k], save_file_dir)\n",
    "                    except Exception:\n",
    "                        error_count+=1\n",
    "\n"
   ]
  },
  {
   "cell_type": "markdown",
   "metadata": {},
   "source": [
    "Replace channel for audio recorded by iphone"
   ]
  },
  {
   "cell_type": "code",
   "execution_count": 4,
   "metadata": {},
   "outputs": [
    {
     "name": "stdout",
     "output_type": "stream",
     "text": [
      "Preprocessed 100 audio files\nPreprocessed 200 audio files\n"
     ]
    },
    {
     "name": "stdout",
     "output_type": "stream",
     "text": [
      "Preprocessed 300 audio files\n"
     ]
    },
    {
     "name": "stdout",
     "output_type": "stream",
     "text": [
      "Preprocessed 400 audio files\n"
     ]
    },
    {
     "name": "stdout",
     "output_type": "stream",
     "text": [
      "Preprocessed 500 audio files\nPreprocessed 600 audio files\nPreprocessed 700 audio files\nPreprocessed 800 audio files\nPreprocessed 900 audio files\n"
     ]
    },
    {
     "name": "stdout",
     "output_type": "stream",
     "text": [
      "Preprocessed 1000 audio files\n"
     ]
    },
    {
     "name": "stdout",
     "output_type": "stream",
     "text": [
      "Preprocessed 1100 audio files\nPreprocessed 1200 audio files\nPreprocessed 1300 audio files\nPreprocessed 1400 audio files\n"
     ]
    }
   ],
   "source": [
    "#Iphone folder\n",
    "error_count=0\n",
    "s=0\n",
    "for i in list_subdirs:\n",
    "    s += 1\n",
    "    if (s % LOG_EVERY_N) == 0:\n",
    "        print \"Preprocessed \"+str(s)+\" audio files\"   \n",
    "    directory = Audio_dir+'/'+i+'/'\n",
    "    new_directory = Audio_mono_dir+'/A'+i.split('A')[-1]+'/'\n",
    "    if not os.path.exists(new_directory):\n",
    "        os.makedirs(new_directory)\n",
    "    #\n",
    "    if os.path.isdir(directory+'iPhone/'):\n",
    "        exist_samsung = True\n",
    "        directory = directory+'iPhone/'\n",
    "    else:\n",
    "        exist_samsung = False\n",
    "\n",
    "    if exist_samsung:\n",
    "        list_wav = glob.glob(directory+\"*.wav\")\n",
    "        for k in range(len(list_wav)):\n",
    "            check_a = list_wav[k].split(\".\")[0].split(' ')[-1].split('-')[-1].split('_')[-1]\n",
    "            if check_a!='':\n",
    "                if (check_a[0]=='a')|(check_a=='iphone'):\n",
    "                    try:\n",
    "                        new_directory = Audio_mono_dir+'/A'+i.split('A')[-1]+'/iphone/'\n",
    "                        if not os.path.exists(new_directory):\n",
    "                                os.makedirs(new_directory)\n",
    "                        #\n",
    "                        save_file_dir = new_directory + list_wav[k].split('/')[-1]\n",
    "                        rate, data = scipy.io.wavfile.read(list_wav[k])\n",
    "                        dim = len(data.shape)\n",
    "                        if dim==2:\n",
    "                            subprocess.call(['sox', list_wav[k], save_file_dir, 'remix', '1,2'])\n",
    "                        elif dim==1:\n",
    "                            copyfile(list_wav[k], save_file_dir)\n",
    "                    except Exception:\n",
    "                        error_count+=1"
   ]
  },
  {
   "cell_type": "markdown",
   "metadata": {},
   "source": [
    "Trim audio files into 1 second length files"
   ]
  },
  {
   "cell_type": "code",
   "execution_count": 8,
   "metadata": {},
   "outputs": [],
   "source": [
    "from pydub import AudioSegment\n",
    "import os \n",
    "import glob\n",
    "\n",
    "def detect_leading_silence(sound, silence_threshold=-50.0, chunk_size=10):\n",
    "    '''\n",
    "    sound is a pydub.AudioSegment\n",
    "    silence_threshold in dB\n",
    "    chunk_size in ms\n",
    "\n",
    "    iterate over chunks until you find the first one with sound\n",
    "    '''\n",
    "    trim_ms = 0 # ms\n",
    "    while sound[trim_ms:trim_ms+chunk_size].dBFS < silence_threshold:\n",
    "        trim_ms += chunk_size\n",
    "    return trim_ms\n",
    "\n",
    "Audio_splitted = 'audio_preparation/Audio_splitted'\n",
    "\n",
    "if not os.path.exists(Audio_splitted):\n",
    "    os.makedirs(Audio_splitted)\n",
    "\n",
    "\n",
    "list_subdirs = os.listdir(Audio_mono_dir)\n",
    "split_seconds = 1"
   ]
  },
  {
   "cell_type": "markdown",
   "metadata": {},
   "source": [
    "Trim studio microphone recorded audio files"
   ]
  },
  {
   "cell_type": "code",
   "execution_count": 9,
   "metadata": {},
   "outputs": [
    {
     "name": "stdout",
     "output_type": "stream",
     "text": [
      "Preprocessed 100 audio files\n"
     ]
    },
    {
     "name": "stdout",
     "output_type": "stream",
     "text": [
      "Preprocessed 200 audio files\n"
     ]
    },
    {
     "name": "stdout",
     "output_type": "stream",
     "text": [
      "Preprocessed 300 audio files\n"
     ]
    },
    {
     "name": "stdout",
     "output_type": "stream",
     "text": [
      "Preprocessed 400 audio files\n"
     ]
    },
    {
     "name": "stdout",
     "output_type": "stream",
     "text": [
      "Preprocessed 500 audio files\n"
     ]
    },
    {
     "name": "stdout",
     "output_type": "stream",
     "text": [
      "Preprocessed 600 audio files\n"
     ]
    },
    {
     "name": "stdout",
     "output_type": "stream",
     "text": [
      "Preprocessed 700 audio files\n"
     ]
    },
    {
     "name": "stdout",
     "output_type": "stream",
     "text": [
      "Preprocessed 800 audio files\n"
     ]
    },
    {
     "name": "stdout",
     "output_type": "stream",
     "text": [
      "Preprocessed 900 audio files\n"
     ]
    },
    {
     "name": "stdout",
     "output_type": "stream",
     "text": [
      "Preprocessed 1000 audio files\n"
     ]
    },
    {
     "name": "stdout",
     "output_type": "stream",
     "text": [
      "Preprocessed 1100 audio files\n"
     ]
    },
    {
     "name": "stdout",
     "output_type": "stream",
     "text": [
      "Preprocessed 1200 audio files\n"
     ]
    },
    {
     "name": "stdout",
     "output_type": "stream",
     "text": [
      "Preprocessed 1300 audio files\n"
     ]
    },
    {
     "name": "stdout",
     "output_type": "stream",
     "text": [
      "Preprocessed 1400 audio files\n"
     ]
    }
   ],
   "source": [
    "#the main folders\n",
    "error_count=0\n",
    "s=0\n",
    "for i in list_subdirs:\n",
    "    s += 1\n",
    "    if (s % LOG_EVERY_N) == 0:\n",
    "        print \"Preprocessed \"+str(s)+\" audio files\"  \n",
    "    directory = Audio_mono_dir+'/'+i+'/'\n",
    "    new_directory = Audio_splitted+'/'+i+'/'\n",
    "    if not os.path.exists(new_directory):\n",
    "        os.makedirs(new_directory)\n",
    "    list_wav = glob.glob(directory+\"*.wav\")\n",
    "    for k in range(len(list_wav)):\n",
    "        check_a = list_wav[k].split(\".\")[0].split(' ')[-1].split('-')[-1].split('_')[-1]\n",
    "        if check_a!='':\n",
    "            if check_a[0]=='a':\n",
    "                try:\n",
    "                    sound = AudioSegment.from_file(list_wav[k], format=\"wav\")\n",
    "                    start_trim = detect_leading_silence(sound)\n",
    "                    end_trim = detect_leading_silence(sound.reverse())\n",
    "                    duration = len(sound)    \n",
    "                    trimmed_sound = sound[start_trim:duration-end_trim]\n",
    "                    trimmed_duration = len(trimmed_sound)\n",
    "                    range_intervals = range(0,trimmed_duration,1000*split_seconds)\n",
    "                    for n in range(len(range_intervals)-1):\n",
    "                        new_audio_file = str(n)+'audio_'+check_a+'.wav'\n",
    "                        sub_trimmed_sound = trimmed_sound[range_intervals[n]:range_intervals[n+1]]\n",
    "                        new_audio_dir = Audio_splitted+'/'+i+'/'+new_audio_file\n",
    "                        sub_trimmed_sound.export(new_audio_dir, format=\"wav\")\n",
    "                except Exception:\n",
    "                    error_count+=1"
   ]
  },
  {
   "cell_type": "markdown",
   "metadata": {},
   "source": [
    "Trim Samsung phone recorded audio files"
   ]
  },
  {
   "cell_type": "code",
   "execution_count": 10,
   "metadata": {},
   "outputs": [
    {
     "name": "stdout",
     "output_type": "stream",
     "text": [
      "Preprocessed 100 audio files\n"
     ]
    },
    {
     "name": "stdout",
     "output_type": "stream",
     "text": [
      "Preprocessed 200 audio files\n"
     ]
    },
    {
     "name": "stdout",
     "output_type": "stream",
     "text": [
      "Preprocessed 300 audio files\n"
     ]
    },
    {
     "name": "stdout",
     "output_type": "stream",
     "text": [
      "Preprocessed 400 audio files\n"
     ]
    },
    {
     "name": "stdout",
     "output_type": "stream",
     "text": [
      "Preprocessed 500 audio files\n"
     ]
    },
    {
     "name": "stdout",
     "output_type": "stream",
     "text": [
      "Preprocessed 600 audio files\n"
     ]
    },
    {
     "name": "stdout",
     "output_type": "stream",
     "text": [
      "Preprocessed 700 audio files\n"
     ]
    },
    {
     "name": "stdout",
     "output_type": "stream",
     "text": [
      "Preprocessed 800 audio files\n"
     ]
    },
    {
     "name": "stdout",
     "output_type": "stream",
     "text": [
      "Preprocessed 900 audio files\n"
     ]
    },
    {
     "name": "stdout",
     "output_type": "stream",
     "text": [
      "Preprocessed 1000 audio files\n"
     ]
    },
    {
     "name": "stdout",
     "output_type": "stream",
     "text": [
      "Preprocessed 1100 audio files\n"
     ]
    },
    {
     "name": "stdout",
     "output_type": "stream",
     "text": [
      "Preprocessed 1200 audio files\n"
     ]
    },
    {
     "name": "stdout",
     "output_type": "stream",
     "text": [
      "Preprocessed 1300 audio files\n"
     ]
    },
    {
     "name": "stdout",
     "output_type": "stream",
     "text": [
      "Preprocessed 1400 audio files\n"
     ]
    }
   ],
   "source": [
    "#Samsung folder\n",
    "error_count=0\n",
    "s=0\n",
    "for i in list_subdirs:\n",
    "    s += 1\n",
    "    if (s % LOG_EVERY_N) == 0:\n",
    "        print \"Preprocessed \"+str(s)+\" audio files\"  \n",
    "    directory = Audio_mono_dir+'/'+i+'/'\n",
    "    new_directory = Audio_splitted+'/'+i+'/'\n",
    "    if not os.path.exists(new_directory):\n",
    "        os.makedirs(new_directory)\n",
    "    #\n",
    "    if os.path.isdir(directory+'Samsung/'):\n",
    "        exist_samsung = True\n",
    "        directory = directory+'Samsung/'\n",
    "    elif os.path.isdir(directory+'samsung/'):\n",
    "        exist_samsung = True\n",
    "        directory = directory+'samsung/'\n",
    "    else:\n",
    "        exist_samsung = False\n",
    "    #\n",
    "    if exist_samsung:\n",
    "        list_wav = glob.glob(directory+\"*.wav\")\n",
    "        for k in range(len(list_wav)):\n",
    "            check_a = list_wav[k].split(\".\")[0].split(' ')[-1].split('-')[-1].split('_')[-1]\n",
    "            if check_a!='':\n",
    "                if (check_a[0]=='a')|(check_a=='samsung'):\n",
    "                    try:\n",
    "                        if check_a=='samsung':\n",
    "                            check_a = list_wav[k].split(\".\")[0].split(' ')[-1].split('-')[0]\n",
    "                        sound = AudioSegment.from_file(list_wav[k], format=\"wav\")\n",
    "                        start_trim = detect_leading_silence(sound)\n",
    "                        end_trim = detect_leading_silence(sound.reverse())\n",
    "                        duration = len(sound)    \n",
    "                        trimmed_sound = sound[start_trim:duration-end_trim]\n",
    "                        trimmed_duration = len(trimmed_sound)\n",
    "                        range_intervals = range(0,trimmed_duration,1000*split_seconds)\n",
    "                        for n in range(len(range_intervals)-1):\n",
    "                            new_audio_file = str(n)+'audio_s'+check_a+'.wav'\n",
    "                            sub_trimmed_sound = trimmed_sound[range_intervals[n]:range_intervals[n+1]]\n",
    "                            new_audio_dir = Audio_splitted+'/'+i+'/'+new_audio_file\n",
    "                            sub_trimmed_sound.export(new_audio_dir, format=\"wav\")\n",
    "                    except Exception:\n",
    "                        error_count+=1"
   ]
  },
  {
   "cell_type": "markdown",
   "metadata": {},
   "source": [
    "Trim iphone phone recorded audio files"
   ]
  },
  {
   "cell_type": "code",
   "execution_count": 11,
   "metadata": {},
   "outputs": [
    {
     "name": "stdout",
     "output_type": "stream",
     "text": [
      "Preprocessed 100 audio files\nPreprocessed 200 audio files\nPreprocessed 300 audio files\nPreprocessed 400 audio files\n"
     ]
    },
    {
     "name": "stdout",
     "output_type": "stream",
     "text": [
      "Preprocessed 500 audio files\nPreprocessed 600 audio files\nPreprocessed 700 audio files\nPreprocessed 800 audio files\nPreprocessed 900 audio files\nPreprocessed 1000 audio files\n"
     ]
    },
    {
     "name": "stdout",
     "output_type": "stream",
     "text": [
      "Preprocessed 1100 audio files\nPreprocessed 1200 audio files\nPreprocessed 1300 audio files\nPreprocessed 1400 audio files\n"
     ]
    }
   ],
   "source": [
    "#Iphone folder\n",
    "error_count=0\n",
    "s=0\n",
    "for i in list_subdirs:\n",
    "    s += 1\n",
    "    if (s % LOG_EVERY_N) == 0:\n",
    "        print \"Preprocessed \"+str(s)+\" audio files\"  \n",
    "    directory = Audio_mono_dir+'/'+i+'/'\n",
    "    new_directory = Audio_splitted+'/'+i+'/'\n",
    "    if not os.path.exists(new_directory):\n",
    "        os.makedirs(new_directory)\n",
    "    \n",
    "    if os.path.isdir(directory+'iphone/'):\n",
    "        exist_samsung = True\n",
    "        directory = directory+'iphone/'\n",
    "    else:\n",
    "        exist_samsung = False\n",
    "    \n",
    "    if exist_samsung:\n",
    "        list_wav = glob.glob(directory+\"*.wav\")\n",
    "        for k in range(len(list_wav)):\n",
    "            check_a = list_wav[k].split(\".\")[0].split(' ')[-1].split('-')[-1].split('_')[-1]\n",
    "            if check_a!='':\n",
    "                if (check_a[0]=='a')|(check_a=='iphone'):\n",
    "                    try:\n",
    "                        if check_a=='iphone':\n",
    "                            check_a = list_wav[k].split(\".\")[0].split(' ')[-1].split('-')[0]\n",
    "                        sound = AudioSegment.from_file(list_wav[k], format=\"wav\")\n",
    "                        start_trim = detect_leading_silence(sound)\n",
    "                        end_trim = detect_leading_silence(sound.reverse())\n",
    "                        duration = len(sound)    \n",
    "                        trimmed_sound = sound[start_trim:duration-end_trim]\n",
    "                        trimmed_duration = len(trimmed_sound)\n",
    "                        range_intervals = range(0,trimmed_duration,1000*split_seconds)\n",
    "                        for n in range(len(range_intervals)-1):\n",
    "                            new_audio_file = str(n)+'audio_i'+check_a+'.wav'\n",
    "                            sub_trimmed_sound = trimmed_sound[range_intervals[n]:range_intervals[n+1]]\n",
    "                            new_audio_dir = Audio_splitted+'/'+i+'/'+new_audio_file\n",
    "                            sub_trimmed_sound.export(new_audio_dir, format=\"wav\")\n",
    "                    except Exception:\n",
    "                        error_count+=1\n"
   ]
  },
  {
   "cell_type": "code",
   "execution_count": null,
   "metadata": {},
   "outputs": [],
   "source": []
  }
 ],
 "metadata": {
  "kernelspec": {
   "display_name": "Python 2",
   "language": "python",
   "name": "python2"
  },
  "language_info": {
   "codemirror_mode": {
    "name": "ipython",
    "version": 2
   },
   "file_extension": ".py",
   "mimetype": "text/x-python",
   "name": "python",
   "nbconvert_exporter": "python",
   "pygments_lexer": "ipython2",
   "version": "2.7.6"
  }
 },
 "nbformat": 4,
 "nbformat_minor": 0
}
