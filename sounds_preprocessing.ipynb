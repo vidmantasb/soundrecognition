{
 "cells": [
  {
   "cell_type": "markdown",
   "metadata": {
    "collapsed": true
   },
   "source": [
    "#Audio files preprocessing"
   ]
  },
  {
   "cell_type": "markdown",
   "metadata": {},
   "source": [
    "Some of the audio files have 2 channels and anothers 1 in order to use all of them for modelling we have to replace audio files with 2 channels to 1."
   ]
  },
  {
   "cell_type": "code",
   "execution_count": 1,
   "metadata": {
    "collapsed": false
   },
   "outputs": [],
   "source": [
    "import os \n",
    "import glob\n",
    "import scipy.io.wavfile\n",
    "from shutil import copyfile\n",
    "import subprocess\n",
    "from shutil import copyfile\n",
    "os.chdir('/Users/vidmantasbendikas/Documents/github/soundrecognition')\n",
    "Audio_dir = 'audio_preparation/Audio'\n",
    "Audio_new_dir = 'audio_preparation/Audio_mono'\n",
    "\n",
    "if not os.path.exists(Audio_new_dir):\n",
    "    os.makedirs(Audio_new_dir)\n",
    "\n",
    "list_subdirs = os.listdir(Audio_dir)\n"
   ]
  },
  {
   "cell_type": "markdown",
   "metadata": {},
   "source": [
    "Replace channel for audio recorded by studio microphone"
   ]
  },
  {
   "cell_type": "code",
   "execution_count": 6,
   "metadata": {
    "collapsed": false
   },
   "outputs": [
    {
     "name": "stdout",
     "output_type": "stream",
     "text": [
      "Preprocessed 100 audio files\nPreprocessed 200 audio files\nPreprocessed 300 audio files\nPreprocessed 400 audio files\n"
     ]
    },
    {
     "name": "stdout",
     "output_type": "stream",
     "text": [
      "Preprocessed 500 audio files\nPreprocessed 600 audio files\nPreprocessed 700 audio files\nPreprocessed 800 audio files\nPreprocessed 900 audio files\nPreprocessed 1000 audio files\nPreprocessed 1100 audio files\n"
     ]
    },
    {
     "name": "stdout",
     "output_type": "stream",
     "text": [
      "Preprocessed 1200 audio files\nPreprocessed 1300 audio files\nPreprocessed 1400 audio files\n"
     ]
    }
   ],
   "source": [
    "error_count=0\n",
    "s=0\n",
    "LOG_EVERY_N = 100\n",
    "for i in list_subdirs:\n",
    "    s += 1\n",
    "    if (s % LOG_EVERY_N) == 0:\n",
    "        print \"Preprocessed \"+str(s)+\" audio files\"   \n",
    "\tdirectory = Audio_dir+'/'+i+'/'\n",
    "\tnew_directory = Audio_new_dir+'/A'+i.split('A')[-1]+'/'\n",
    "        \n",
    "\tif not os.path.exists(new_directory):\n",
    "\t    os.makedirs(new_directory)\n",
    "\t\n",
    "\tlist_wav = glob.glob(directory+\"*.wav\")\n",
    "\tfor k in range(len(list_wav)):\n",
    "\t\tcheck_a = list_wav[k].split(\".\")[0].split(' ')[-1].split('-')[-1].split('_')[-1]\n",
    "\t\tif check_a!='':\n",
    "\t\t\tif check_a[0]=='a':\n",
    "\t\t\t\ttry:\n",
    "\t\t\t\t\tsave_file_dir = new_directory + list_wav[k].split('/')[-1]\n",
    "\t\t\t\t\trate, data = scipy.io.wavfile.read(list_wav[k])\n",
    "\t\t\t\t\tdim = len(data.shape)\n",
    "\t\t\t\t\tif dim==2:\n",
    "\t\t\t\t\t\tsubprocess.call(['sox', list_wav[k], save_file_dir, 'remix', '1,2'])\n",
    "\t\t\t\t\telif dim==1:\n",
    "\t\t\t\t\t\tcopyfile(list_wav[k], save_file_dir)\n",
    "\t\t\t\texcept Exception:\n",
    "\t\t\t\t\terror_count+=1"
   ]
  },
  {
   "cell_type": "markdown",
   "metadata": {},
   "source": [
    "Replace channel for audio recorded by samsung phone"
   ]
  },
  {
   "cell_type": "code",
   "execution_count": 7,
   "metadata": {},
   "outputs": [
    {
     "name": "stdout",
     "output_type": "stream",
     "text": [
      "Preprocessed 100 audio files\nPreprocessed 200 audio files\nPreprocessed 300 audio files\nPreprocessed 400 audio files\nPreprocessed 500 audio files\nPreprocessed 600 audio files\nPreprocessed 700 audio files\nPreprocessed 800 audio files\nPreprocessed 900 audio files\nPreprocessed 1000 audio files\nPreprocessed 1100 audio files\nPreprocessed 1200 audio files\nPreprocessed 1300 audio files\nPreprocessed 1400 audio files\n"
     ]
    }
   ],
   "source": [
    "#Samsung folder\n",
    "error_count=0\n",
    "s=0\n",
    "for i in list_subdirs:\n",
    "    s += 1\n",
    "    if (s % LOG_EVERY_N) == 0:\n",
    "        print \"Preprocessed \"+str(s)+\" audio files\"   \n",
    "\tdirectory = Audio_dir+'/'+i+'/'\n",
    "\tnew_directory = Audio_new_dir+'/A'+i.split('A')[-1]+'/'\n",
    "\tif not os.path.exists(new_directory):\n",
    "\t    os.makedirs(new_directory)\n",
    "\t#\n",
    "\tif os.path.isdir(directory+'Samsung/'):\n",
    "\t\texist_samsung = True\n",
    "\t\tdirectory = directory+'Samsung/'\n",
    "\telif os.path.isdir(directory+'samsung/'):\n",
    "\t\texist_samsung = True\n",
    "\t\tdirectory = directory+'samsung/'\n",
    "\telse:\n",
    "\t\texist_samsung = False\n",
    "\t#\n",
    "\tif exist_samsung:\n",
    "\t\tlist_wav = glob.glob(directory+\"*.wav\")\n",
    "\t\tfor k in range(len(list_wav)):\n",
    "\t\t\tcheck_a = list_wav[k].split(\".\")[0].split(' ')[-1].split('-')[-1].split('_')[-1]\n",
    "\t\t\tif check_a!='':\n",
    "\t\t\t\tif (check_a[0]=='a')|(check_a=='samsung'):\n",
    "\t\t\t\t\ttry:\n",
    "\t\t\t\t\t\tnew_directory = Audio_new_dir+'/A'+i.split('A')[-1]+'/samsung/'\n",
    "\t\t\t\t\t\tif not os.path.exists(new_directory):\n",
    "\t\t\t    \t\t\t\tos.makedirs(new_directory)\n",
    "\t\t\t\t\t\t#\n",
    "\t\t\t\t\t\tsave_file_dir = new_directory + list_wav[k].split('/')[-1]\n",
    "\t\t\t\t\t\trate, data = scipy.io.wavfile.read(list_wav[k])\n",
    "\t\t\t\t\t\tdim = len(data.shape)\n",
    "\t\t\t\t\t\tif dim==2:\n",
    "\t\t\t\t\t\t\tsubprocess.call(['sox', list_wav[k], save_file_dir, 'remix', '1,2'])\n",
    "\t\t\t\t\t\telif dim==1:\n",
    "\t\t\t\t\t\t\tcopyfile(list_wav[k], save_file_dir)\n",
    "\t\t\t\t\texcept Exception:\n",
    "\t\t\t\t\t\terror_count+=1\n",
    "\n"
   ]
  },
  {
   "cell_type": "markdown",
   "metadata": {},
   "source": [
    "Replace channel for audio recorded by iphone"
   ]
  },
  {
   "cell_type": "code",
   "execution_count": 8,
   "metadata": {},
   "outputs": [
    {
     "name": "stdout",
     "output_type": "stream",
     "text": [
      "Preprocessed 100 audio files\nPreprocessed 200 audio files\nPreprocessed 300 audio files\nPreprocessed 400 audio files\nPreprocessed 500 audio files\nPreprocessed 600 audio files\nPreprocessed 700 audio files\nPreprocessed 800 audio files\nPreprocessed 900 audio files\nPreprocessed 1000 audio files\nPreprocessed 1100 audio files\nPreprocessed 1200 audio files\nPreprocessed 1300 audio files\nPreprocessed 1400 audio files\n"
     ]
    }
   ],
   "source": [
    "#Iphone folder\n",
    "error_count=0\n",
    "s=0\n",
    "for i in list_subdirs:\n",
    "    s += 1\n",
    "    if (s % LOG_EVERY_N) == 0:\n",
    "        print \"Preprocessed \"+str(s)+\" audio files\"   \n",
    "\tdirectory = Audio_dir+'/'+i+'/'\n",
    "\tnew_directory = Audio_new_dir+'/A'+i.split('A')[-1]+'/'\n",
    "\tif not os.path.exists(new_directory):\n",
    "\t    os.makedirs(new_directory)\n",
    "\t#\n",
    "\tif os.path.isdir(directory+'iPhone/'):\n",
    "\t\texist_samsung = True\n",
    "\t\tdirectory = directory+'iPhone/'\n",
    "\telse:\n",
    "\t\texist_samsung = False\n",
    "\t#\n",
    "\tif exist_samsung:\n",
    "\t\tlist_wav = glob.glob(directory+\"*.wav\")\n",
    "\t\tfor k in range(len(list_wav)):\n",
    "\t\t\tcheck_a = list_wav[k].split(\".\")[0].split(' ')[-1].split('-')[-1].split('_')[-1]\n",
    "\t\t\tif check_a!='':\n",
    "\t\t\t\tif (check_a[0]=='a')|(check_a=='iphone'):\n",
    "\t\t\t\t\ttry:\n",
    "\t\t\t\t\t\tnew_directory = Audio_new_dir+'/A'+i.split('A')[-1]+'/iphone/'\n",
    "\t\t\t\t\t\tif not os.path.exists(new_directory):\n",
    "\t\t\t    \t\t\t\tos.makedirs(new_directory)\n",
    "\t\t\t\t\t\t#\n",
    "\t\t\t\t\t\tsave_file_dir = new_directory + list_wav[k].split('/')[-1]\n",
    "\t\t\t\t\t\trate, data = scipy.io.wavfile.read(list_wav[k])\n",
    "\t\t\t\t\t\tdim = len(data.shape)\n",
    "\t\t\t\t\t\tif dim==2:\n",
    "\t\t\t\t\t\t\tsubprocess.call(['sox', list_wav[k], save_file_dir, 'remix', '1,2'])\n",
    "\t\t\t\t\t\telif dim==1:\n",
    "\t\t\t\t\t\t\tcopyfile(list_wav[k], save_file_dir)\n",
    "\t\t\t\t\texcept Exception:\n",
    "\t\t\t\t\t\terror_count+=1\n",
    "\n",
    "\n",
    "\n",
    "\n",
    "\n"
   ]
  },
  {
   "cell_type": "code",
   "execution_count": null,
   "metadata": {},
   "outputs": [],
   "source": []
  }
 ],
 "metadata": {
  "kernelspec": {
   "display_name": "Python 2",
   "language": "python",
   "name": "python2"
  },
  "language_info": {
   "codemirror_mode": {
    "name": "ipython",
    "version": 2
   },
   "file_extension": ".py",
   "mimetype": "text/x-python",
   "name": "python",
   "nbconvert_exporter": "python",
   "pygments_lexer": "ipython2",
   "version": "2.7.6"
  }
 },
 "nbformat": 4,
 "nbformat_minor": 0
}
