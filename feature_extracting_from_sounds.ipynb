{
 "cells": [
  {
   "cell_type": "markdown",
   "metadata": {
    "collapsed": true
   },
   "source": [
    "#Features extracting from audio"
   ]
  },
  {
   "cell_type": "markdown",
   "metadata": {},
   "source": [
    "Create spectogram for each audio file and get feature matrix from it"
   ]
  },
  {
   "cell_type": "code",
   "execution_count": 2,
   "metadata": {},
   "outputs": [
    {
     "name": "stdout",
     "output_type": "stream",
     "text": [
      "Preprocessed 100 audio files\n"
     ]
    },
    {
     "name": "stdout",
     "output_type": "stream",
     "text": [
      "Preprocessed 200 audio files\n"
     ]
    },
    {
     "name": "stdout",
     "output_type": "stream",
     "text": [
      "Preprocessed 300 audio files\n"
     ]
    },
    {
     "name": "stdout",
     "output_type": "stream",
     "text": [
      "Preprocessed 400 audio files\n"
     ]
    },
    {
     "name": "stdout",
     "output_type": "stream",
     "text": [
      "Preprocessed 500 audio files\n"
     ]
    }
   ],
   "source": [
    "import os\n",
    "import glob\n",
    "os.chdir('/Users/vidmantasbendikas/Documents/github/soundrecognition')\n",
    "audio_folder = 'audio_preparation/Audio_splitted'\n",
    "spectrograms_folder = 'audio_preparation/spectrograms'\n",
    "\n",
    "if not os.path.exists(spectrograms_folder):\n",
    "    os.makedirs(spectrograms_folder)\n",
    "\n",
    "\n",
    "list_subdirs = os.listdir(audio_folder)\n",
    "s=0\n",
    "LOG_EVERY_N = 100\n",
    "for i in list_subdirs:\n",
    "    s += 1\n",
    "    if (s % LOG_EVERY_N) == 0:\n",
    "        print \"Preprocessed \"+str(s)+\" people records\"  \n",
    "    directory = audio_folder+'/'+i+'/'\n",
    "    new_directory = spectrograms_folder+'/'+i+'/'\n",
    "    if not os.path.exists(new_directory):\n",
    "        os.makedirs(new_directory)\n",
    "    #\n",
    "    list_wav = glob.glob(directory+\"*.wav\")\n",
    "    for k in range(len(list_wav)):\n",
    "        spectrogram_dir = spectrograms_folder+'/'+i+'/'+ i+'_'+list_wav[k].split('/')[-1].split('.')[0]+'.png'\n",
    "        #command = \"sox \"+list_wav[k]+\" -n spectrogram -l -r -o \"+spectrogram_dir\n",
    "        command = \"sox \"+list_wav[k]+\" -n spectrogram -l -m -r -w Kaiser -o \"+spectrogram_dir\n",
    "        os.system(command)"
   ]
  },
  {
   "cell_type": "markdown",
   "metadata": {},
   "source": [
    "Transform spectrogram image into matrix and save it to tuple"
   ]
  },
  {
   "cell_type": "code",
   "execution_count": 2,
   "metadata": {},
   "outputs": [
    {
     "ename": "OSError",
     "evalue": "[Errno 2] No such file or directory: 'audio_preparation/spectrograms'",
     "traceback": [
      "\u001b[0;31m---------------------------------------------------------------------------\u001b[0m",
      "\u001b[0;31mOSError\u001b[0m                                   Traceback (most recent call last)",
      "\u001b[0;32m<ipython-input-2-f95a7810cbb8>\u001b[0m in \u001b[0;36m<module>\u001b[0;34m()\u001b[0m\n\u001b[1;32m     16\u001b[0m \u001b[0;34m\u001b[0m\u001b[0m\n\u001b[1;32m     17\u001b[0m \u001b[0mspectrograms_folder\u001b[0m \u001b[0;34m=\u001b[0m \u001b[0;34m'audio_preparation/spectrograms'\u001b[0m\u001b[0;34m\u001b[0m\u001b[0m\n\u001b[0;32m---> 18\u001b[0;31m \u001b[0mspectograms_subfolders\u001b[0m \u001b[0;34m=\u001b[0m \u001b[0mos\u001b[0m\u001b[0;34m.\u001b[0m\u001b[0mlistdir\u001b[0m\u001b[0;34m(\u001b[0m\u001b[0mspectrograms_folder\u001b[0m\u001b[0;34m)\u001b[0m\u001b[0;34m\u001b[0m\u001b[0m\n\u001b[0m\u001b[1;32m     19\u001b[0m \u001b[0maudios_features\u001b[0m \u001b[0;34m=\u001b[0m \u001b[0;34m{\u001b[0m\u001b[0;34m}\u001b[0m\u001b[0;34m\u001b[0m\u001b[0m\n\u001b[1;32m     20\u001b[0m \u001b[0ms\u001b[0m \u001b[0;34m=\u001b[0m \u001b[0;36m0\u001b[0m\u001b[0;34m\u001b[0m\u001b[0m\n",
      "\u001b[0;31mOSError\u001b[0m: [Errno 2] No such file or directory: 'audio_preparation/spectrograms'"
     ],
     "output_type": "error"
    }
   ],
   "source": [
    "import os.path\n",
    "from PIL import Image\n",
    "import numpy as np\n",
    "import pickle\n",
    "\n",
    "def img_to_matrix(filename, verbose=False, STANDARD_SIZE= (120,120)):\n",
    "    \"\"\"\n",
    "    takes a filename and turns it into a numpy array of RGB pixels\n",
    "    \"\"\"\n",
    "    img = Image.open(filename)\n",
    "    if verbose==True:\n",
    "        print \"changing size from %s to %s\" % (str(img.size), str(STANDARD_SIZE))\n",
    "    img = img.resize(STANDARD_SIZE)\n",
    "    img = list(img.getdata())\n",
    "    img = np.array(img)\n",
    "    return img\n",
    "\n",
    "audios_features_folder = 'audios_features'\n",
    "spectograms_subfolders = os.listdir(spectrograms_folder)\n",
    "audios_features = {}\n",
    "s = 0\n",
    "for subfolder in spectograms_subfolders:\n",
    "    s += 1\n",
    "    if (s % LOG_EVERY_N) == 0:\n",
    "        print \"Transformed \"+str(s)+\" spectrograms into array\"  \n",
    "    path_to_spectograms_files = spectrograms_folder+'/'+subfolder+'/'\n",
    "    spectrograms_files_list = glob.glob(path_to_spectograms_files+\"*.png\")\n",
    "    \n",
    "    audios_features[subfolder] = {}\n",
    "    audios_features[subfolder]['device'] = {}\n",
    "    audios_features[subfolder]['device']['studio'] = {}\n",
    "    audios_features[subfolder]['device']['iphone'] = {}\n",
    "    audios_features[subfolder]['device']['samsung'] = {}\n",
    "    for spectrogram_file in spectrograms_files_list:\n",
    "        if spectrogram_file.split('_')[-1].split('a')[0]=='s':\n",
    "            audio_features = img_to_matrix(spectrogram_file)\n",
    "            audios_features[subfolder]['device']['samsung'][spectrogram_file.split('/')[-1]] = {}\n",
    "            audios_features[subfolder]['device']['samsung'][spectrogram_file.split('/')[-1]]['features'] = {}\n",
    "            audios_features[subfolder]['device']['samsung'][spectrogram_file.split('/')[-1]]['features']['spectrogram'] = audio_features\n",
    "       \n",
    "        elif spectrogram_file.split('_')[-1].split('a')[0]=='i':\n",
    "            audio_features = img_to_matrix(spectrogram_file)\n",
    "            audios_features[subfolder]['device']['iphone'][spectrogram_file.split('/')[-1]] = {}\n",
    "            audios_features[subfolder]['device']['iphone'][spectrogram_file.split('/')[-1]]['features'] = {}\n",
    "            audios_features[subfolder]['device']['iphone'][spectrogram_file.split('/')[-1]]['features']['spectrogram'] = audio_features \n",
    "        else:\n",
    "            audio_features = img_to_matrix(spectrogram_file)\n",
    "            audios_features[subfolder]['device']['studio'][spectrogram_file.split('/')[-1]] = {}\n",
    "            audios_features[subfolder]['device']['studio'][spectrogram_file.split('/')[-1]]['features'] = {}\n",
    "            audios_features[subfolder]['device']['studio'][spectrogram_file.split('/')[-1]]['features']['spectrogram'] = audio_features\n",
    "\n",
    "if not os.path.exists(audios_features_folder):\n",
    "    os.makedirs(audios_features_folder)\n",
    "\n",
    "pickle.dump(audios_features, open(audios_features_folder+\"/\"+\"audios_features.p\", \"wb\" ))"
   ]
  },
  {
   "cell_type": "code",
   "execution_count": null,
   "metadata": {},
   "outputs": [],
   "source": []
  }
 ],
 "metadata": {
  "kernelspec": {
   "display_name": "Python 2",
   "language": "python",
   "name": "python2"
  },
  "language_info": {
   "codemirror_mode": {
    "name": "ipython",
    "version": 2
   },
   "file_extension": ".py",
   "mimetype": "text/x-python",
   "name": "python",
   "nbconvert_exporter": "python",
   "pygments_lexer": "ipython2",
   "version": "2.7.6"
  }
 },
 "nbformat": 4,
 "nbformat_minor": 0
}
