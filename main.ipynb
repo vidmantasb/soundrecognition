{
 "cells": [
  {
   "cell_type": "markdown",
   "metadata": {},
   "source": [
    "# Human sounds recognition"
   ]
  },
  {
   "cell_type": "markdown",
   "metadata": {},
   "source": [
    "import panda as pn"
   ]
  },
  {
   "cell_type": "code",
   "execution_count": 7,
   "metadata": {},
   "outputs": [],
   "source": [
    "tel = {'jack': {'jack': 4098, 'sape': 4139}, 'sape': 4139}\n",
    "audios_features = {}\n",
    "audios_features['A1111'] = {}\n",
    "audios_features['A1111']['target'] = 'sick'\n",
    "audios_features['A1111']['device']['iphone']['1']['path'] = '/sada/asdas/asd'\n",
    "audios_features['A1111']['device']['iphone']['1']['features']['spectrogram'] = [1,2,3,4,5,6]\n",
    "audios_features['A1111']['device']['iphone']['1']['features']['soundnet'] = [1,2,3,4,5,6]\n",
    "audios_features['A1111']['device']['iphone']['1']['features']['PCA'] = [1,2,3,4,5,6]\n",
    "audios_features['A1111']['device']['iphone']['1'][]"
   ]
  },
  {
   "cell_type": "code",
   "execution_count": null,
   "metadata": {},
   "outputs": [],
   "source": []
  }
 ],
 "metadata": {
  "kernelspec": {
   "display_name": "Python 2",
   "language": "python",
   "name": "python2"
  },
  "language_info": {
   "codemirror_mode": {
    "name": "ipython",
    "version": 2
   },
   "file_extension": ".py",
   "mimetype": "text/x-python",
   "name": "python",
   "nbconvert_exporter": "python",
   "pygments_lexer": "ipython2",
   "version": "2.7.6"
  }
 },
 "nbformat": 4,
 "nbformat_minor": 0
}
